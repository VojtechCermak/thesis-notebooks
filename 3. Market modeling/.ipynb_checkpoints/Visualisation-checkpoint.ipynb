{
 "cells": [
  {
   "cell_type": "code",
   "execution_count": 1,
   "metadata": {},
   "outputs": [
    {
     "name": "stderr",
     "output_type": "stream",
     "text": [
      "C:\\ProgramData\\Anaconda3\\lib\\site-packages\\gensim\\utils.py:1197: UserWarning: detected Windows; aliasing chunkize to chunkize_serial\n",
      "  warnings.warn(\"detected Windows; aliasing chunkize to chunkize_serial\")\n"
     ]
    }
   ],
   "source": [
    "%load_ext autoreload\n",
    "%autoreload\n",
    "%matplotlib inline\n",
    "\n",
    "import numpy as np\n",
    "import pandas as pd\n",
    "import gensim\n",
    "from utils import *\n",
    "from sklearn.feature_extraction.text import CountVectorizer\n",
    "\n",
    "import matplotlib.pyplot as plt"
   ]
  },
  {
   "cell_type": "code",
   "execution_count": 2,
   "metadata": {},
   "outputs": [
    {
     "name": "stdout",
     "output_type": "stream",
     "text": [
      "Wall time: 4min 22s\n"
     ]
    }
   ],
   "source": [
    "%%time\n",
    "# Load data\n",
    "tweets_GOOG = load_tweets(\"C:\\\\Users\\\\Vojta-Acer\\\\Desktop\\\\Diplomka\\\\dataProcessed\\\\tweetsGOOG.csv\")\n",
    "tweets_AAPL = load_tweets(\"C:\\\\Users\\\\Vojta-Acer\\\\Desktop\\\\Diplomka\\\\dataProcessed\\\\tweetsAAPL.csv\")\n",
    "\n",
    "market_GOOG = load_prices(\"C:\\\\Users\\\\Vojta-Acer\\Desktop\\\\Diplomka\\\\dataMarket\\\\GOOG.csv\")\n",
    "market_AAPL = load_prices(\"C:\\\\Users\\\\Vojta-Acer\\Desktop\\\\Diplomka\\\\dataMarket\\\\AAPL.csv\")"
   ]
  },
  {
   "cell_type": "code",
   "execution_count": 3,
   "metadata": {},
   "outputs": [
    {
     "name": "stdout",
     "output_type": "stream",
     "text": [
      "Wall time: 2min 54s\n"
     ]
    }
   ],
   "source": [
    "%%time\n",
    "tweets_GOOG_day = aggregate_tweets(tweets_GOOG, 'date', 'tokens')\n",
    "tweets_AAPL_day = aggregate_tweets(tweets_AAPL, 'date', 'tokens')\n",
    "\n",
    "tweets_GOOG_day_lem = aggregate_tweets(tweets_GOOG, 'date', 'lemmas')\n",
    "tweets_AAPL_day_lem = aggregate_tweets(tweets_AAPL, 'date', 'lemmas')\n",
    "\n",
    "tweets_GOOG_day_stem = aggregate_tweets(tweets_GOOG, 'date', 'stems')\n",
    "tweets_AAPL_day_stem = aggregate_tweets(tweets_AAPL, 'date', 'stems')\n",
    "\n",
    "tweets_GOOG_5min = aggregate_tweets(tweets_GOOG, '5min', 'tokens')\n",
    "tweets_AAPL_5min = aggregate_tweets(tweets_AAPL, '5min', 'tokens')"
   ]
  },
  {
   "cell_type": "code",
   "execution_count": 4,
   "metadata": {},
   "outputs": [
    {
     "name": "stdout",
     "output_type": "stream",
     "text": [
      "APPLE lemmas\n",
      "Total number of words:                  73341\n",
      "Words occuring more than 100 times:     4028\n",
      "Words occuring more than 10 times:      14277\n",
      "number of words occured exactly once:   36088\n",
      "number of words occured exactly twice:  8455\n"
     ]
    },
    {
     "data": {
      "text/html": [
       "<div>\n",
       "<style scoped>\n",
       "    .dataframe tbody tr th:only-of-type {\n",
       "        vertical-align: middle;\n",
       "    }\n",
       "\n",
       "    .dataframe tbody tr th {\n",
       "        vertical-align: top;\n",
       "    }\n",
       "\n",
       "    .dataframe thead th {\n",
       "        text-align: right;\n",
       "    }\n",
       "</style>\n",
       "<table border=\"1\" class=\"dataframe\">\n",
       "  <thead>\n",
       "    <tr style=\"text-align: right;\">\n",
       "      <th></th>\n",
       "      <th>0</th>\n",
       "    </tr>\n",
       "  </thead>\n",
       "  <tbody>\n",
       "    <tr>\n",
       "      <th>0</th>\n",
       "      <td>aapl</td>\n",
       "    </tr>\n",
       "    <tr>\n",
       "      <th>1</th>\n",
       "      <td>apple</td>\n",
       "    </tr>\n",
       "    <tr>\n",
       "      <th>2</th>\n",
       "      <td>the</td>\n",
       "    </tr>\n",
       "    <tr>\n",
       "      <th>3</th>\n",
       "      <td>to</td>\n",
       "    </tr>\n",
       "    <tr>\n",
       "      <th>4</th>\n",
       "      <td>in</td>\n",
       "    </tr>\n",
       "    <tr>\n",
       "      <th>5</th>\n",
       "      <td>is</td>\n",
       "    </tr>\n",
       "    <tr>\n",
       "      <th>6</th>\n",
       "      <td>a</td>\n",
       "    </tr>\n",
       "    <tr>\n",
       "      <th>7</th>\n",
       "      <td>s</td>\n",
       "    </tr>\n",
       "    <tr>\n",
       "      <th>8</th>\n",
       "      <td>more</td>\n",
       "    </tr>\n",
       "    <tr>\n",
       "      <th>9</th>\n",
       "      <td>for</td>\n",
       "    </tr>\n",
       "  </tbody>\n",
       "</table>\n",
       "</div>"
      ],
      "text/plain": [
       "       0\n",
       "0   aapl\n",
       "1  apple\n",
       "2    the\n",
       "3     to\n",
       "4     in\n",
       "5     is\n",
       "6      a\n",
       "7      s\n",
       "8   more\n",
       "9    for"
      ]
     },
     "execution_count": 4,
     "metadata": {},
     "output_type": "execute_result"
    }
   ],
   "source": [
    "# Count Apple words\n",
    "count_vect = CountVectorizer(preprocessor=lambda x: x, tokenizer=lambda x: x)\n",
    "#vec = count_vect.fit(tweets_AAPL_day_lem['text'])\n",
    "#bow = vec.transform(tweets_AAPL_day_lem['text'])\n",
    "\n",
    "#vec = count_vect.fit(tweets_AAPL_day_stem['text'])\n",
    "#bow = vec.transform(tweets_AAPL_day_stem['text'])\n",
    "\n",
    "vec = count_vect.fit(tweets_AAPL_day['text'])\n",
    "bow = vec.transform(tweets_AAPL_day['text'])\n",
    "\n",
    "\n",
    "sum_words = bow.sum(axis=0)\n",
    "words_freq = [(word, sum_words[0, idx]) for word, idx in vec.vocabulary_.items()]\n",
    "AAPL_wordcount = sorted(words_freq, key = lambda x: x[1], reverse=True)\n",
    "\n",
    "# Zipf law and distribution of words\n",
    "distr = [word[1] for word in AAPL_wordcount]\n",
    "top_words = pd.DataFrame([word[0] for word in AAPL_wordcount[:10]])\n",
    "distr_df = pd.DataFrame(distr)\n",
    "#np.log(distr_df).plot(title = 'Zipf law')\n",
    "\n",
    "occured_once = distr_df[distr_df == 1].count()\n",
    "occured_twice = distr_df[distr_df == 2].count()\n",
    "occured_10plus = distr_df[distr_df > 10].count()\n",
    "occured_100plus = distr_df[distr_df > 100].count()\n",
    "\n",
    "print('APPLE lemmas')\n",
    "print('Total number of words:                  ' + str(distr_df.count().values[0]) )\n",
    "print('Words occuring more than 100 times:     ' + str(occured_100plus.values[0]) )\n",
    "print('Words occuring more than 10 times:      ' + str(occured_10plus.values[0]))\n",
    "\n",
    "print('number of words occured exactly once:   ' + str(occured_once.values[0]) )\n",
    "print('number of words occured exactly twice:  ' + str(occured_twice.values[0]))\n",
    "distr_df_AAPL = distr_df.copy()\n",
    "top_words"
   ]
  },
  {
   "cell_type": "code",
   "execution_count": null,
   "metadata": {},
   "outputs": [],
   "source": []
  },
  {
   "cell_type": "markdown",
   "metadata": {},
   "source": [
    "# Google"
   ]
  },
  {
   "cell_type": "code",
   "execution_count": 5,
   "metadata": {},
   "outputs": [
    {
     "name": "stdout",
     "output_type": "stream",
     "text": [
      "Google Lemmas\n",
      "Total number of words:                  57721\n",
      "Words occuring more than 100 times:     2078\n",
      "Words occuring more than 10 times:      8428\n",
      "number of words occured exactly once:   31187\n",
      "number of words occured exactly twice:  7372\n"
     ]
    },
    {
     "data": {
      "text/html": [
       "<div>\n",
       "<style scoped>\n",
       "    .dataframe tbody tr th:only-of-type {\n",
       "        vertical-align: middle;\n",
       "    }\n",
       "\n",
       "    .dataframe tbody tr th {\n",
       "        vertical-align: top;\n",
       "    }\n",
       "\n",
       "    .dataframe thead th {\n",
       "        text-align: right;\n",
       "    }\n",
       "</style>\n",
       "<table border=\"1\" class=\"dataframe\">\n",
       "  <thead>\n",
       "    <tr style=\"text-align: right;\">\n",
       "      <th></th>\n",
       "      <th>0</th>\n",
       "    </tr>\n",
       "  </thead>\n",
       "  <tbody>\n",
       "    <tr>\n",
       "      <th>0</th>\n",
       "      <td>goog</td>\n",
       "    </tr>\n",
       "    <tr>\n",
       "      <th>1</th>\n",
       "      <td>google</td>\n",
       "    </tr>\n",
       "    <tr>\n",
       "      <th>2</th>\n",
       "      <td>be</td>\n",
       "    </tr>\n",
       "    <tr>\n",
       "      <th>3</th>\n",
       "      <td>more</td>\n",
       "    </tr>\n",
       "    <tr>\n",
       "      <th>4</th>\n",
       "      <td>read</td>\n",
       "    </tr>\n",
       "    <tr>\n",
       "      <th>5</th>\n",
       "      <td>s</td>\n",
       "    </tr>\n",
       "    <tr>\n",
       "      <th>6</th>\n",
       "      <td>aapl</td>\n",
       "    </tr>\n",
       "    <tr>\n",
       "      <th>7</th>\n",
       "      <td>googl</td>\n",
       "    </tr>\n",
       "    <tr>\n",
       "      <th>8</th>\n",
       "      <td>fb</td>\n",
       "    </tr>\n",
       "    <tr>\n",
       "      <th>9</th>\n",
       "      <td>alphabet</td>\n",
       "    </tr>\n",
       "  </tbody>\n",
       "</table>\n",
       "</div>"
      ],
      "text/plain": [
       "          0\n",
       "0      goog\n",
       "1    google\n",
       "2        be\n",
       "3      more\n",
       "4      read\n",
       "5         s\n",
       "6      aapl\n",
       "7     googl\n",
       "8        fb\n",
       "9  alphabet"
      ]
     },
     "execution_count": 5,
     "metadata": {},
     "output_type": "execute_result"
    }
   ],
   "source": [
    "# Count Google words\n",
    "count_vect = CountVectorizer(preprocessor=lambda x: x, tokenizer=lambda x: x)\n",
    "vec = count_vect.fit(tweets_GOOG_day_lem['text'])\n",
    "bow = vec.transform(tweets_GOOG_day_lem['text'])\n",
    "\n",
    "#vec = count_vect.fit(tweets_GOOG_day_stem['text'])\n",
    "#bow = vec.transform(tweets_GOOG_day_stem['text'])\n",
    "\n",
    "#vec = count_vect.fit(tweets_GOOG_day['text'])\n",
    "#bow = vec.transform(tweets_GOOG_day['text'])\n",
    "\n",
    "sum_words = bow.sum(axis=0)\n",
    "words_freq = [(word, sum_words[0, idx]) for word, idx in vec.vocabulary_.items()]\n",
    "GOOG_wordcount = sorted(words_freq, key = lambda x: x[1], reverse=True)\n",
    "\n",
    "# Zipf law and distribution of words\n",
    "distr = [word[1] for word in GOOG_wordcount]\n",
    "distr_df = pd.DataFrame(distr)\n",
    "top_words = pd.DataFrame([word[0] for word in GOOG_wordcount[:10]])\n",
    "\n",
    "occured_once = distr_df[distr_df == 1].count()\n",
    "occured_twice = distr_df[distr_df == 2].count()\n",
    "occured_10plus = distr_df[distr_df > 10].count()\n",
    "occured_100plus = distr_df[distr_df > 100].count()\n",
    "\n",
    "print('Google Lemmas')\n",
    "print('Total number of words:                  ' + str(distr_df.count().values[0]) )\n",
    "print('Words occuring more than 100 times:     ' + str(occured_100plus.values[0]) )\n",
    "print('Words occuring more than 10 times:      ' + str(occured_10plus.values[0]))\n",
    "\n",
    "print('number of words occured exactly once:   ' + str(occured_once.values[0]) )\n",
    "print('number of words occured exactly twice:  ' + str(occured_twice.values[0]))\n",
    "distr_df_GOOG = distr_df.copy()\n",
    "top_words"
   ]
  },
  {
   "cell_type": "code",
   "execution_count": 6,
   "metadata": {},
   "outputs": [
    {
     "data": {
      "text/plain": [
       "Text(0.5,0,'Occurence rank')"
      ]
     },
     "execution_count": 6,
     "metadata": {},
     "output_type": "execute_result"
    },
    {
     "data": {
      "image/png": "[encoded data removed]",
      "text/plain": [
       "<matplotlib.figure.Figure at 0x2711533e828>"
      ]
     },
     "metadata": {},
     "output_type": "display_data"
    }
   ],
   "source": [
    "# Distribution together\n",
    "fig, ax = plt.subplots(1,2, figsize = (14, 5))\n",
    "np.log(distr_df_GOOG).plot(title = 'Google - Distribution of words', ax = ax[0], legend = None)\n",
    "np.log(distr_df_AAPL).plot(title = 'Apple - Distribution of words',  ax = ax[1], legend = None)\n",
    "ax[0].set_ylabel(\"Log scaled word count\")\n",
    "ax[0].set_xlabel(\"Occurence rank\")\n",
    "ax[1].set_ylabel(\"Log scaled word count\")\n",
    "ax[1].set_xlabel(\"Occurence rank\")\n",
    "#fig.savefig('figures\\\\visualisation_word_distribution.png')"
   ]
  },
  {
   "cell_type": "code",
   "execution_count": null,
   "metadata": {},
   "outputs": [],
   "source": []
  },
  {
   "cell_type": "code",
   "execution_count": null,
   "metadata": {},
   "outputs": [],
   "source": []
  },
  {
   "cell_type": "code",
   "execution_count": 7,
   "metadata": {},
   "outputs": [],
   "source": [
    "# Google - tweet count vs volatitliy \n",
    "GOOG_day = market_GOOG['Close'].at_time('16:00')\n",
    "GOOG_day.index = GOOG_day.index.date\n",
    "GOOG_df = pd.DataFrame(tweets_GOOG_day['tweet_count'].rename('Tweet Count')).join(GOOG_day, how = 'inner')\n",
    "returns = GOOG_df['Close'].pct_change()\n",
    "GOOG_df['Volatility'] = returns*returns\n",
    "GOOG_df = GOOG_df.dropna()\n",
    "#GOOG_df.to_csv('GOOG_daily_visualisation.csv')"
   ]
  },
  {
   "cell_type": "code",
   "execution_count": 8,
   "metadata": {},
   "outputs": [],
   "source": [
    "# Apple - tweet count vs volatitliy \n",
    "AAPL_day = market_AAPL['Close'].at_time('16:00')\n",
    "AAPL_day.index = AAPL_day.index.date\n",
    "AAPL_df = pd.DataFrame(tweets_AAPL_day['tweet_count'].rename('Tweet Count')).join(AAPL_day, how = 'inner')\n",
    "returns = AAPL_df['Close'].pct_change()\n",
    "AAPL_df['Volatility'] = returns*returns\n",
    "AAPL_df = AAPL_df.dropna()\n",
    "#AAPL_df.to_csv('AAPL_daily_visualisation.csv')"
   ]
  },
  {
   "cell_type": "code",
   "execution_count": 9,
   "metadata": {},
   "outputs": [
    {
     "name": "stdout",
     "output_type": "stream",
     "text": [
      "total number of Apple tweets:   393787\n",
      "total number of Google tweets:  190246\n",
      "average number of Apple tweets per minute during trading hours:   1.5918902268272193\n",
      "average number of Google tweets per minute during trading hours:   0.7222262204629962\n"
     ]
    }
   ],
   "source": [
    "total_AAPL = tweets_AAPL_5min['tweet_count'].sum()\n",
    "print('total number of Apple tweets:   '+str(total_AAPL) )\n",
    "total_GOOG = tweets_GOOG_5min['tweet_count'].sum()\n",
    "print('total number of Google tweets:  '+str(total_GOOG) )\n",
    "\n",
    "avg5min_thours_AAPL = tweets_AAPL_5min.between_time('9:30', '16:00')['tweet_count'].mean()\n",
    "print('average number of Apple tweets per minute during trading hours:   '+str(avg5min_thours_AAPL/5) )\n",
    "avg5min_thours_GOOG = tweets_GOOG_5min.between_time('9:30', '16:00')['tweet_count'].mean()\n",
    "print('average number of Google tweets per minute during trading hours:   '+str(avg5min_thours_GOOG/5) )"
   ]
  },
  {
   "cell_type": "code",
   "execution_count": 10,
   "metadata": {},
   "outputs": [],
   "source": [
    "tweet_count = pd.DataFrame(tweets_AAPL_5min['tweet_count'])\n",
    "tweet_count = tweet_count[tweet_count.index.dayofweek < 5]\n",
    "tweet_count['hour'] = tweet_count.index.hour\n",
    "b_day = tweet_count.groupby('hour').mean()\n",
    "\n",
    "tweet_count = pd.DataFrame(tweets_AAPL_5min['tweet_count'])\n",
    "tweet_count = tweet_count[tweet_count.index.dayofweek > 5]\n",
    "tweet_count['hour'] = tweet_count.index.hour\n",
    "weekend = tweet_count.groupby('hour').mean()"
   ]
  },
  {
   "cell_type": "code",
   "execution_count": 11,
   "metadata": {},
   "outputs": [
    {
     "name": "stdout",
     "output_type": "stream",
     "text": [
      "bussines day per minute mean:   1.5585240189774976\n",
      "weekend perminute mean:         0.5840598012073472\n"
     ]
    }
   ],
   "source": [
    "print('bussines day per minute mean:   ' +str( b_day.mean().values[0]/5) )\n",
    "print('weekend perminute mean:         ' +str( weekend.mean().values[0]/5) )"
   ]
  },
  {
   "cell_type": "code",
   "execution_count": 12,
   "metadata": {},
   "outputs": [
    {
     "data": {
      "text/plain": [
       "Text(0.5,0,'Time')"
      ]
     },
     "execution_count": 12,
     "metadata": {},
     "output_type": "execute_result"
    },
    {
     "data": {
      "image/png": "[encoded data removed]",
      "text/plain": [
       "<matplotlib.figure.Figure at 0x271149e0780>"
      ]
     },
     "metadata": {},
     "output_type": "display_data"
    }
   ],
   "source": [
    "# Distribution together\n",
    "fig, ax = plt.subplots(1,2, figsize = (14, 5))\n",
    "b_day.plot(title = 'Tweets distribution during bussiness day', ax = ax[0], legend = None)\n",
    "weekend.plot(title = 'Tweets distribution during weekneds',  ax = ax[1], legend = None)\n",
    "ax[0].set_ylabel(\"Tweets per 5 minutes\")\n",
    "ax[0].set_xlabel(\"Time\")\n",
    "ax[1].set_ylabel(\"Tweets per 5 minutes\")\n",
    "ax[1].set_xlabel(\"Time\")\n",
    "#fig.savefig('figures\\\\visualisation_tweets_across_days.png')"
   ]
  },
  {
   "cell_type": "code",
   "execution_count": null,
   "metadata": {},
   "outputs": [],
   "source": []
  },
  {
   "cell_type": "code",
   "execution_count": null,
   "metadata": {},
   "outputs": [],
   "source": []
  },
  {
   "cell_type": "code",
   "execution_count": null,
   "metadata": {},
   "outputs": [],
   "source": []
  },
  {
   "cell_type": "code",
   "execution_count": null,
   "metadata": {},
   "outputs": [],
   "source": []
  }
 ],
 "metadata": {
  "kernelspec": {
   "display_name": "Python 3",
   "language": "python",
   "name": "python3"
  },
  "language_info": {
   "codemirror_mode": {
    "name": "ipython",
    "version": 3
   },
   "file_extension": ".py",
   "mimetype": "text/x-python",
   "name": "python",
   "nbconvert_exporter": "python",
   "pygments_lexer": "ipython3",
   "version": "3.6.4"
  }
 },
 "nbformat": 4,
 "nbformat_minor": 2
}
