{
 "cells": [
  {
   "cell_type": "code",
   "execution_count": 16,
   "metadata": {},
   "outputs": [],
   "source": [
    "#Standard\n",
    "import time\n",
    "import numpy as np\n",
    "import pandas as pd\n",
    "\n",
    "# file manipulation\n",
    "import os\n",
    "import json\n",
    "from ast import literal_eval\n",
    "\n",
    "# word embedings\n",
    "import gensim\n",
    "from gensim import corpora, models, similarities\n",
    "\n",
    "# Word Counter\n",
    "from collections import Counter\n",
    "\n",
    "# Visualisation\n",
    "import matplotlib.pyplot as plt\n",
    "\n",
    "# import TSNE\n",
    "import sklearn"
   ]
  },
  {
   "cell_type": "code",
   "execution_count": 17,
   "metadata": {},
   "outputs": [],
   "source": [
    "# Vectorization methods\n",
    "def Tweet2Vec_averaging(tokens):\n",
    "    tweetVec = []\n",
    "    for word in tokens:\n",
    "        try:\n",
    "            wordVec = vectorization.wv[word]\n",
    "            tweetVec.append(wordVec)\n",
    "        except: continue            \n",
    "    return np.mean(tweetVec, axis=0)\n",
    "\n",
    "def Tweet2Vec_min(tokens):\n",
    "    tweetVec = []\n",
    "    for word in tokens:\n",
    "        try:        \n",
    "            wordVec = vectorization.wv[word]\n",
    "            tweetVec.append(wordVec)\n",
    "        except: continue\n",
    "    return np.min(tweetVec, axis=0)\n",
    "\n",
    "def Tweet2Vec_max(tokens):\n",
    "    tweetVec = []\n",
    "    for word in tokens:\n",
    "        try:\n",
    "            wordVec = vectorization.wv[word]\n",
    "            tweetVec.append(wordVec)\n",
    "        except: continue\n",
    "    return np.max(tweetVec, axis=0)\n",
    "\n",
    "def Tweet2Vec_minmax(tokens):\n",
    "    tweetVec = []\n",
    "    for word in tokens:\n",
    "        try:        \n",
    "            wordVec = vectorization.wv[word]\n",
    "            tweetVec.append(wordVec)\n",
    "        except: continue\n",
    "\n",
    "    minVec = np.min(tweetVec, axis=0)\n",
    "    maxVec = np.max(tweetVec, axis=0)\n",
    "    return np.append(maxVec, minVec)\n",
    "\n",
    "def Tweet2Vec_tfidf(tokens):\n",
    "    tweetVec = []\n",
    "    weightSum = 0\n",
    "    for word in tokens:\n",
    "        try:        \n",
    "            wordVec = vectorization.wv[word]\n",
    "            weight = idf[vocabulary[word]]\n",
    "            \n",
    "            weightSum = weightSum + weight\n",
    "            tweetVec.append(wordVec*weight)\n",
    "        except: continue            \n",
    "    return np.mean(tweetVec, axis=0)\n"
   ]
  },
  {
   "cell_type": "code",
   "execution_count": 18,
   "metadata": {},
   "outputs": [],
   "source": [
    "## Load word Embedings\n",
    "# Load Glove (twitter trained)\n",
    "DataPath = 'C:\\\\Users\\\\Vojta-Acer\\\\Desktop\\\\Diplomka\\\\word2vec\\\\glove.twitter.27B.200d.txt'\n",
    "GLOVEmodel = gensim.models.KeyedVectors.load_word2vec_format(DataPath)\n",
    "\n",
    "# Load W2V (Google News trained)\n",
    "DataPath = 'C:\\\\Users\\\\Vojta-Acer\\\\Desktop\\\\Diplomka\\\\word2vec\\\\GoogleNews-vectors-negative300.bin'\n",
    "W2Vmodel = gensim.models.KeyedVectors.load_word2vec_format(DataPath, binary=True)\n"
   ]
  },
  {
   "cell_type": "code",
   "execution_count": 19,
   "metadata": {},
   "outputs": [],
   "source": [
    "## Load tweets to pandas\n",
    "DataPath = 'C:\\\\Users\\\\Vojta-Acer\\\\Desktop\\\\Diplomka\\\\dataProcessed\\\\tweetsAAPL.csv'\n",
    "tweetsClean = pd.read_csv(DataPath)\n",
    "# convert column values to lists of words\n",
    "tweetsClean['lemmas'] = tweetsClean['lemmas'].apply(literal_eval)\n",
    "tweetsClean['tokens'] = tweetsClean['tokens'].apply(literal_eval)\n",
    "\n",
    "## Index tweets\n",
    "tweets = tweetsClean.copy()\n",
    "\n",
    "# create time variables and filter spam\n",
    "tweets['created_at'] = pd.to_datetime(tweets['created_at'], format='%Y-%m-%d %H:%M:%S')\n",
    "tweets['date'] = tweets['created_at'].astype(str).str[:10]\n",
    "tweets['hour'] = tweets['created_at'].astype(str).str[11:13]\n",
    "tweets['minute'] = tweets['created_at'].astype(str).str[14:16]\n",
    "tweets['5min'] = (tweets['minute'].astype(int)//5)*5\n",
    "tweets = tweets.drop_duplicates(['date', 'text'])\n",
    "\n",
    "#Reindex\n",
    "tweets.set_index(['date', 'hour', '5min' ,'minute', 'id'], inplace = True)\n",
    "\n",
    "# learn TF IDF on tokens\n",
    "from sklearn.feature_extraction.text import TfidfVectorizer\n",
    "tfidf = TfidfVectorizer(preprocessor=lambda x: x, tokenizer=lambda x: x, stop_words='english', min_df = 5)\n",
    "tfidf_matrix = tfidf.fit_transform(tweets['tokens'])\n",
    "\n",
    "# get  IDF dictionary\n",
    "vocabulary = tfidf.vocabulary_\n",
    "idf = tfidf.idf_"
   ]
  },
  {
   "cell_type": "code",
   "execution_count": null,
   "metadata": {},
   "outputs": [],
   "source": []
  },
  {
   "cell_type": "code",
   "execution_count": null,
   "metadata": {},
   "outputs": [],
   "source": []
  },
  {
   "cell_type": "code",
   "execution_count": 20,
   "metadata": {},
   "outputs": [],
   "source": [
    "# load example tweets\n",
    "exampleTweets = pd.read_csv('tweetsExamplesSelection.csv')\n",
    "#exampleTweets = pd.read_csv('tweetsExamplesSelection.csv')\n",
    "#exampleTweets = pd.read_csv('tweetsExamplesFull.csv')\n",
    "\n",
    "colorDict = {'A':'red', 'B':'blue', 'C':'green', 'D':'black', 'E':'purple', 'F':'brown', 'G':'yellow', 'H':'orange'}\n",
    "colorSeries = exampleTweets['Color'].apply(lambda x: colorDict[x])\n",
    "classes = exampleTweets['Topic']"
   ]
  },
  {
   "cell_type": "code",
   "execution_count": 21,
   "metadata": {},
   "outputs": [],
   "source": [
    "# Select method of embedding vectorization\n",
    "\n",
    "vectorization = GLOVEmodel\n",
    "#vectorization = W2Vmodel"
   ]
  },
  {
   "cell_type": "code",
   "execution_count": null,
   "metadata": {},
   "outputs": [],
   "source": []
  },
  {
   "cell_type": "code",
   "execution_count": null,
   "metadata": {},
   "outputs": [],
   "source": []
  },
  {
   "cell_type": "code",
   "execution_count": 22,
   "metadata": {},
   "outputs": [
    {
     "name": "stderr",
     "output_type": "stream",
     "text": [
      "C:\\ProgramData\\Anaconda3\\lib\\site-packages\\ipykernel_launcher.py:6: DeprecationWarning: Call to deprecated `wv` (Attribute will be removed in 4.0.0, use self instead).\n",
      "  \n"
     ]
    }
   ],
   "source": [
    "df = exampleTweets['Message'].apply(Tweet2Vec_averaging)\n",
    "twitterVec = df.apply(pd.Series)"
   ]
  },
  {
   "cell_type": "markdown",
   "metadata": {
    "collapsed": true
   },
   "source": [
    "<h2> TSNE Plot using Twitter trained Word2Vec<h2/>"
   ]
  },
  {
   "cell_type": "code",
   "execution_count": 23,
   "metadata": {
    "scrolled": false
   },
   "outputs": [
    {
     "name": "stderr",
     "output_type": "stream",
     "text": [
      "C:\\ProgramData\\Anaconda3\\lib\\site-packages\\ipykernel_launcher.py:6: DeprecationWarning: Call to deprecated `wv` (Attribute will be removed in 4.0.0, use self instead).\n",
      "  \n"
     ]
    },
    {
     "name": "stdout",
     "output_type": "stream",
     "text": [
      "[t-SNE] Computing 19 nearest neighbors...\n",
      "[t-SNE] Indexed 37 samples in 0.000s...\n",
      "[t-SNE] Computed neighbors for 37 samples in 0.009s...\n",
      "[t-SNE] Computed conditional probabilities for sample 37 / 37\n",
      "[t-SNE] Mean sigma: 0.240938\n",
      "[t-SNE] KL divergence after 250 iterations with early exaggeration: 67.589607\n",
      "[t-SNE] Error after 1450 iterations: 0.400895\n"
     ]
    },
    {
     "data": {
      "text/plain": [
       "Text(0.5,1,'Tweet vectorization - Mean of word vector')"
      ]
     },
     "execution_count": 23,
     "metadata": {},
     "output_type": "execute_result"
    },
    {
     "data": {
      "image/png": "[encoded data removed]",
      "text/plain": [
       "<matplotlib.figure.Figure at 0x2a1c7b8f128>"
      ]
     },
     "metadata": {},
     "output_type": "display_data"
    }
   ],
   "source": [
    "df = exampleTweets['Message'].apply(Tweet2Vec_averaging)\n",
    "twitterVec = df.apply(pd.Series)\n",
    "color_to_marker = {'red': u'o','green': u'o','yellow':u'+', 'brown': u'+'}\n",
    "markerSeries = colorSeries.map(pd.Series(color_to_marker))\n",
    "\n",
    "\n",
    "from sklearn.manifold import TSNE\n",
    "tsne = TSNE(n_components=2, verbose=1, perplexity=6, n_iter=12000, random_state=7)\n",
    "#tsne = TSNE(n_components=2, verbose=1, perplexity=3, n_iter=12000, random_state=7)\n",
    "\n",
    "tsne_results = tsne.fit_transform(twitterVec.values)\n",
    "\n",
    "x = tsne_results[:,0]\n",
    "y = tsne_results[:,1] \n",
    "\n",
    "class_id_convertor={'Encryption fight':1, \n",
    "                    'iStores issues in India':2,\n",
    "                    'iPhone sales in India  ':3,\n",
    "                    'Buffet buys Apple shares':4}\n",
    "\n",
    "inv_class_id_convertor = {v: k for k, v in class_id_convertor.items()}\n",
    "class_id = classes.map(class_id_convertor)\n",
    "df = pd.DataFrame({'x': x, 'y':y, 'class_name': classes, 'class_id': class_id})\n",
    "groups = df.groupby('class_id')\n",
    "\n",
    "color_to_marker = {1: 'o',2: '^',3:'*', 4: 's'}\n",
    "color_to_color = {1: 'C3',2: 'C2',3:'blue', 4: 'C8'}\n",
    "\n",
    "fig, ax = plt.subplots()\n",
    "fig.set_size_inches(10, 5)\n",
    "ax.margins(0.05)\n",
    "for name, group in groups:\n",
    "    marker = color_to_marker[name]\n",
    "    color = color_to_color[name]\n",
    "    label = inv_class_id_convertor[name]\n",
    "    ax.plot(group.x, group.y, marker=marker, color = color, linestyle='', ms=8, label=label)\n",
    "ax.legend()\n",
    "\n",
    "plt.title(\"Tweet vectorization - Mean of word vector\")\n"
   ]
  },
  {
   "cell_type": "code",
   "execution_count": null,
   "metadata": {},
   "outputs": [],
   "source": []
  },
  {
   "cell_type": "code",
   "execution_count": null,
   "metadata": {},
   "outputs": [],
   "source": []
  },
  {
   "cell_type": "code",
   "execution_count": null,
   "metadata": {},
   "outputs": [],
   "source": []
  },
  {
   "cell_type": "markdown",
   "metadata": {},
   "source": [
    "<h2> TSNE Plots Combined <h2/>\n"
   ]
  },
  {
   "cell_type": "code",
   "execution_count": 25,
   "metadata": {},
   "outputs": [
    {
     "name": "stderr",
     "output_type": "stream",
     "text": [
      "C:\\ProgramData\\Anaconda3\\lib\\site-packages\\ipykernel_launcher.py:6: DeprecationWarning: Call to deprecated `wv` (Attribute will be removed in 4.0.0, use self instead).\n",
      "  \n"
     ]
    },
    {
     "name": "stdout",
     "output_type": "stream",
     "text": [
      "[t-SNE] Computing 19 nearest neighbors...\n",
      "[t-SNE] Indexed 37 samples in 0.000s...\n",
      "[t-SNE] Computed neighbors for 37 samples in 0.001s...\n",
      "[t-SNE] Computed conditional probabilities for sample 37 / 37\n",
      "[t-SNE] Mean sigma: 0.240938\n",
      "[t-SNE] KL divergence after 250 iterations with early exaggeration: 67.589607\n",
      "[t-SNE] Error after 1450 iterations: 0.400895\n",
      "[t-SNE] Computing 13 nearest neighbors...\n",
      "[t-SNE] Indexed 37 samples in 0.001s...\n",
      "[t-SNE] Computed neighbors for 37 samples in 0.001s...\n",
      "[t-SNE] Computed conditional probabilities for sample 37 / 37\n",
      "[t-SNE] Mean sigma: 1.424380\n",
      "[t-SNE] KL divergence after 250 iterations with early exaggeration: 69.398735\n"
     ]
    },
    {
     "name": "stderr",
     "output_type": "stream",
     "text": [
      "C:\\ProgramData\\Anaconda3\\lib\\site-packages\\ipykernel_launcher.py:46: DeprecationWarning: Call to deprecated `wv` (Attribute will be removed in 4.0.0, use self instead).\n"
     ]
    },
    {
     "name": "stdout",
     "output_type": "stream",
     "text": [
      "[t-SNE] Error after 2450 iterations: 0.394362\n"
     ]
    },
    {
     "data": {
      "image/png": "[encoded data removed]",
      "text/plain": [
       "<matplotlib.figure.Figure at 0x2a209c61c18>"
      ]
     },
     "metadata": {},
     "output_type": "display_data"
    }
   ],
   "source": [
    "# FIGURE\n",
    "fig, ax = plt.subplots(1,2, figsize = (16, 6.5))\n",
    "\n",
    "# PLOT 1\n",
    "df = exampleTweets['Message'].apply(Tweet2Vec_averaging)\n",
    "twitterVec = df.apply(pd.Series)\n",
    "color_to_marker = {'red': u'o','green': u'o','yellow':u'+', 'brown': u'+'}\n",
    "markerSeries = colorSeries.map(pd.Series(color_to_marker))\n",
    "from sklearn.manifold import TSNE\n",
    "tsne = TSNE(n_components=2, verbose=1, perplexity=6, n_iter=12000, random_state=7)\n",
    "tsne_results = tsne.fit_transform(twitterVec.values)\n",
    "x = tsne_results[:,0]\n",
    "y = tsne_results[:,1] \n",
    "\n",
    "class_id_convertor={'Encryption fight':1, \n",
    "                    'iStores issues in India':2,\n",
    "                    'iPhone sales in India  ':3,\n",
    "                    'Buffet buys Apple shares':4}\n",
    "inv_class_id_convertor = {v: k for k, v in class_id_convertor.items()}\n",
    "class_id = classes.map(class_id_convertor)\n",
    "df = pd.DataFrame({'x': x, 'y':y, 'class_name': classes, 'class_id': class_id})\n",
    "groups = df.groupby('class_id')\n",
    "color_to_marker = {1: 'o',2: '^',3:'*', 4: 's'}\n",
    "color_to_color = {1: 'C3',2: 'C2',3:'blue', 4: 'C8'}\n",
    "ax[0].margins(0.05)\n",
    "for name, group in groups:\n",
    "    marker = color_to_marker[name]\n",
    "    color = color_to_color[name]\n",
    "    label = inv_class_id_convertor[name]\n",
    "    ax[0].plot(group.x, group.y, marker=marker, color = color, linestyle='', ms=8, label=label)\n",
    "ax[0].legend(loc='upper center', bbox_to_anchor=(1.1, -0.1), ncol=4)\n",
    "ax[0].set_title(\"Mean of word vectors\")\n",
    "\n",
    "# PLOT 2\n",
    "df = exampleTweets['Message'].apply(Tweet2Vec_tfidf)\n",
    "twitterVec = df.apply(pd.Series)\n",
    "from sklearn.manifold import TSNE\n",
    "tsne = TSNE(n_components=2, verbose=1, perplexity=4, n_iter=12000, random_state=7)\n",
    "tsne_results = tsne.fit_transform(twitterVec.values)\n",
    "x = tsne_results[:,0]\n",
    "y = tsne_results[:,1] \n",
    "class_id_convertor={'Encryption fight':1, \n",
    "                    'iStores issues in India':2,\n",
    "                    'iPhone sales in India  ':3,\n",
    "                    'Buffet buys Apple shares':4}\n",
    "inv_class_id_convertor = {v: k for k, v in class_id_convertor.items()}\n",
    "class_id = classes.map(class_id_convertor)\n",
    "df = pd.DataFrame({'x': x, 'y':y, 'class_name': classes, 'class_id': class_id})\n",
    "groups = df.groupby('class_id')\n",
    "color_to_marker = {1: 'o',2: '^',3:'*', 4: 's'}\n",
    "color_to_color = {1: 'C3',2: 'C2',3:'blue', 4: 'C8'}\n",
    "ax[1].margins(0.05)\n",
    "for name, group in groups:\n",
    "    marker = color_to_marker[name]\n",
    "    color = color_to_color[name]\n",
    "    label = inv_class_id_convertor[name]\n",
    "    ax[1].plot(group.x, group.y, marker=marker, color = color, linestyle='', ms=8, label=label, )\n",
    "ax[1].set_title(\"IDF weighted mean of word vectors\")\n",
    "fig.savefig('visualisation_glove_vectorization.png', bbox_inches=\"tight\")"
   ]
  },
  {
   "cell_type": "code",
   "execution_count": null,
   "metadata": {},
   "outputs": [],
   "source": []
  }
 ],
 "metadata": {
  "kernelspec": {
   "display_name": "Python 3",
   "language": "python",
   "name": "python3"
  },
  "language_info": {
   "codemirror_mode": {
    "name": "ipython",
    "version": 3
   },
   "file_extension": ".py",
   "mimetype": "text/x-python",
   "name": "python",
   "nbconvert_exporter": "python",
   "pygments_lexer": "ipython3",
   "version": "3.6.4"
  }
 },
 "nbformat": 4,
 "nbformat_minor": 2
}
