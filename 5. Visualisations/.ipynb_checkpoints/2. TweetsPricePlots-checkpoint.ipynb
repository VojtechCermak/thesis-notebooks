{
 "cells": [
  {
   "cell_type": "code",
   "execution_count": 5,
   "metadata": {
    "collapsed": true
   },
   "outputs": [],
   "source": [
    "#Standard\n",
    "import time\n",
    "import numpy as np\n",
    "import pandas as pd\n",
    "\n",
    "# file manipulation\n",
    "import os\n",
    "import json\n",
    "\n",
    "# word embedings\n",
    "import gensim\n",
    "from gensim import corpora, models, similarities\n",
    "\n",
    "# Word Counter\n",
    "from collections import Counter\n",
    "\n",
    "# Visualisation\n",
    "import matplotlib.pyplot as plt\n",
    "\n",
    "# import\n",
    "import sklearn\n",
    "\n",
    "#read \n",
    "from ast import literal_eval"
   ]
  },
  {
   "cell_type": "code",
   "execution_count": null,
   "metadata": {
    "collapsed": true
   },
   "outputs": [],
   "source": [
    "# Load tweets to pandas\n",
    "DataPath = 'C:\\\\Users\\\\Vojta-Acer\\\\Desktop\\\\Diplomka\\\\dataProcessed\\\\tweetsAAPL.csv'\n",
    "tweetsClean = pd.read_csv(DataPath)\n",
    "\n",
    "# convert column values to lists of words\n",
    "tweetsClean['lemmas'] = tweetsClean['lemmas'].apply(literal_eval)\n",
    "tweetsClean['tokens'] = tweetsClean['tokens'].apply(literal_eval)"
   ]
  },
  {
   "cell_type": "code",
   "execution_count": null,
   "metadata": {
    "collapsed": true
   },
   "outputs": [],
   "source": []
  },
  {
   "cell_type": "code",
   "execution_count": null,
   "metadata": {},
   "outputs": [],
   "source": [
    "## 1. Visualisation: Price-Tweets time series \n",
    "# index tweets\n",
    "tweets = tweetsClean.copy()\n",
    "\n",
    "# create time variables\n",
    "tweets['created_at'] = pd.to_datetime(tweets['created_at'], format='%Y-%m-%d %H:%M:%S')\n",
    "tweets['date'] = tweets['created_at'].astype(str).str[:10]\n",
    "tweets['hour'] = tweets['created_at'].astype(str).str[11:13]\n",
    "tweets['minute'] = tweets['created_at'].astype(str).str[14:16]\n",
    "tweets['5min'] = (tweets['minute'].astype(int)//5)*5\n",
    "\n",
    "# Indexing\n",
    "tweets.set_index(['date', 'hour', '5min' ,'minute', 'id'], inplace = True)\n",
    "\n",
    "# Tweet count\n",
    "tweetCount = tweets['created_at'].groupby(level=['date']).count()\n",
    "tweetCount = tweetCount.to_frame()\n",
    "\n",
    "# Apple prices\n",
    "applePrice = pd.read_csv('applePrice.csv')\n",
    "applePrice['Date'] = pd.to_datetime(applePrice['Date'], format='%m/%d/%Y')\n",
    "applePrice.set_index('Date', inplace = True)\n",
    "\n",
    "x = tweetCount.join(applePrice)\n",
    "x.to_csv('appleTimeline.csv')"
   ]
  },
  {
   "cell_type": "code",
   "execution_count": null,
   "metadata": {
    "collapsed": true
   },
   "outputs": [],
   "source": []
  }
 ],
 "metadata": {
  "kernelspec": {
   "display_name": "Python 3",
   "language": "python",
   "name": "python3"
  },
  "language_info": {
   "codemirror_mode": {
    "name": "ipython",
    "version": 3
   },
   "file_extension": ".py",
   "mimetype": "text/x-python",
   "name": "python",
   "nbconvert_exporter": "python",
   "pygments_lexer": "ipython3",
   "version": "3.6.3"
  }
 },
 "nbformat": 4,
 "nbformat_minor": 2
}
