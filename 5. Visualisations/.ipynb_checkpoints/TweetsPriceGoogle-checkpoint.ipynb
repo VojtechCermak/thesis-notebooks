{
 "cells": [
  {
   "cell_type": "code",
   "execution_count": 168,
   "metadata": {},
   "outputs": [
    {
     "name": "stdout",
     "output_type": "stream",
     "text": [
      "The autoreload extension is already loaded. To reload it, use:\n",
      "  %reload_ext autoreload\n"
     ]
    }
   ],
   "source": [
    "%load_ext autoreload\n",
    "%autoreload\n",
    "%matplotlib inline\n",
    "\n",
    "import numpy as np\n",
    "import pandas as pd\n",
    "import gensim\n",
    "from utils import *\n",
    "\n",
    "from sklearn.naive_bayes import MultinomialNB\n",
    "from sklearn.linear_model import LogisticRegression\n",
    "\n",
    "from sklearn.model_selection import cross_val_predict\n",
    "from sklearn.metrics import accuracy_score\n",
    "from sklearn.metrics import cohen_kappa_score\n",
    "from sklearn.metrics import confusion_matrix"
   ]
  },
  {
   "cell_type": "code",
   "execution_count": 212,
   "metadata": {},
   "outputs": [
    {
     "name": "stderr",
     "output_type": "stream",
     "text": [
      "C:\\ProgramData\\Anaconda3\\lib\\site-packages\\statsmodels\\compat\\pandas.py:56: FutureWarning: The pandas.core.datetools module is deprecated and will be removed in a future version. Please use the pandas.tseries module instead.\n",
      "  from pandas.core import datetools\n"
     ]
    }
   ],
   "source": [
    "from sklearn.linear_model import LinearRegression\n",
    "import statsmodels.api as sm\n"
   ]
  },
  {
   "cell_type": "code",
   "execution_count": 3,
   "metadata": {},
   "outputs": [],
   "source": [
    "market_master = load_prices(\"C:\\\\Users\\\\Vojta-Acer\\Desktop\\\\Diplomka\\\\dataMarket\\\\GOOG.csv\")\n",
    "tweets = load_tweets(\"C:\\\\Users\\\\Vojta-Acer\\\\Desktop\\Diplomka\\\\dataProcessed\\\\tweetsGOOG.csv\")"
   ]
  },
  {
   "cell_type": "code",
   "execution_count": 23,
   "metadata": {},
   "outputs": [],
   "source": [
    "#tweets_hour = aggregate_tweets(tweets, 'hour', 'tokens')\n",
    "tweets_5min = aggregate_tweets(tweets, '5min', 'tokens')\n",
    "#tweets_min = aggregate_tweets(tweets, 'min', 'tokens')\n",
    "#tweets_none = aggregate_tweets(tweets, 'none', 'tokens')"
   ]
  },
  {
   "cell_type": "code",
   "execution_count": null,
   "metadata": {},
   "outputs": [],
   "source": []
  },
  {
   "cell_type": "code",
   "execution_count": 221,
   "metadata": {},
   "outputs": [],
   "source": [
    "tweet_count = tweets.groupby('date').size()\n",
    "tweet_count.index = pd.to_datetime(tweet_count.index) \n",
    "\n",
    "market = market_master['Close'].between_time('16:00', '16:00')\n",
    "market.index = market.index.date\n",
    "\n",
    "df = pd.DataFrame(tweet_count.rename('Tweet Count')).join(market, how = 'inner')\n",
    "df['RET'] = df['Close'].pct_change()\n",
    "df['VOL'] = df['RET']*df['RET']\n"
   ]
  },
  {
   "cell_type": "code",
   "execution_count": 222,
   "metadata": {},
   "outputs": [],
   "source": [
    "\n",
    "df['Count lag 1'] = df['Tweet Count'].shift()\n",
    "df['Count lag 2'] = df['Tweet Count'].shift(2)\n",
    "df['Count lag 3'] = df['Tweet Count'].shift(3)\n",
    "df['Count lag 4'] = df['Tweet Count'].shift(4)\n",
    "df['Count lag 5'] = df['Tweet Count'].shift(5)\n",
    "\n",
    "df = df.dropna()"
   ]
  },
  {
   "cell_type": "code",
   "execution_count": null,
   "metadata": {},
   "outputs": [],
   "source": []
  },
  {
   "cell_type": "code",
   "execution_count": null,
   "metadata": {},
   "outputs": [],
   "source": []
  },
  {
   "cell_type": "code",
   "execution_count": null,
   "metadata": {},
   "outputs": [],
   "source": []
  },
  {
   "cell_type": "code",
   "execution_count": 251,
   "metadata": {},
   "outputs": [
    {
     "name": "stdout",
     "output_type": "stream",
     "text": [
      "                            OLS Regression Results                            \n",
      "==============================================================================\n",
      "Dep. Variable:                    VOL   R-squared:                       0.172\n",
      "Model:                            OLS   Adj. R-squared:                  0.167\n",
      "Method:                 Least Squares   F-statistic:                     33.39\n",
      "Date:                Mon, 23 Apr 2018   Prob (F-statistic):           3.80e-08\n",
      "Time:                        12:24:10   Log-Likelihood:                 1039.2\n",
      "No. Observations:                 162   AIC:                            -2076.\n",
      "Df Residuals:                     161   BIC:                            -2073.\n",
      "Df Model:                           1                                         \n",
      "Covariance Type:            nonrobust                                         \n",
      "===============================================================================\n",
      "                  coef    std err          t      P>|t|      [0.025      0.975]\n",
      "-------------------------------------------------------------------------------\n",
      "Count lag 4  2.667e-05   4.62e-06      5.778      0.000    1.76e-05    3.58e-05\n",
      "==============================================================================\n",
      "Omnibus:                      179.209   Durbin-Watson:                   1.806\n",
      "Prob(Omnibus):                  0.000   Jarque-Bera (JB):             3852.634\n",
      "Skew:                           4.356   Prob(JB):                         0.00\n",
      "Kurtosis:                      25.245   Cond. No.                         1.00\n",
      "==============================================================================\n",
      "\n",
      "Warnings:\n",
      "[1] Standard Errors assume that the covariance matrix of the errors is correctly specified.\n"
     ]
    }
   ],
   "source": [
    "features = df.iloc[:,[0,4,5,6,7,8]]\n",
    "features = df['Count lag 4']\n",
    "features = np.log(features)\n",
    "labels = df['VOL']\n",
    "\n",
    "mod = sm.OLS(labels, features)\n",
    "res = mod.fit()\n",
    "print(res.summary())"
   ]
  },
  {
   "cell_type": "code",
   "execution_count": null,
   "metadata": {},
   "outputs": [],
   "source": []
  },
  {
   "cell_type": "code",
   "execution_count": null,
   "metadata": {},
   "outputs": [],
   "source": []
  },
  {
   "cell_type": "code",
   "execution_count": null,
   "metadata": {},
   "outputs": [],
   "source": []
  },
  {
   "cell_type": "code",
   "execution_count": null,
   "metadata": {},
   "outputs": [],
   "source": []
  }
 ],
 "metadata": {
  "kernelspec": {
   "display_name": "Python 3",
   "language": "python",
   "name": "python3"
  },
  "language_info": {
   "codemirror_mode": {
    "name": "ipython",
    "version": 3
   },
   "file_extension": ".py",
   "mimetype": "text/x-python",
   "name": "python",
   "nbconvert_exporter": "python",
   "pygments_lexer": "ipython3",
   "version": "3.6.4"
  }
 },
 "nbformat": 4,
 "nbformat_minor": 2
}
